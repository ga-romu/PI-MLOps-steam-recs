{
 "cells": [
  {
   "cell_type": "code",
   "execution_count": 32,
   "metadata": {},
   "outputs": [],
   "source": [
    "import pandas as pd\n",
    "import numpy as np\n",
    "import pandas.api.types as pdtypes\n",
    "\n",
    "import warnings\n",
    "warnings.filterwarnings(\"ignore\")"
   ]
  },
  {
   "cell_type": "code",
   "execution_count": 33,
   "metadata": {},
   "outputs": [],
   "source": [
    "df_games = pd.read_parquet('../data/df_games.parquet')\n",
    "df_reviews = pd.read_parquet('../data/processed/df_reviews.parquet')\n",
    "df_items = pd.read_parquet('../data/processed/df_items.parquet')"
   ]
  },
  {
   "cell_type": "markdown",
   "metadata": {},
   "source": [
    "#### def developer_stats(dev)\n",
    "Number of items and percentage of free content per year by developer company"
   ]
  },
  {
   "cell_type": "code",
   "execution_count": 34,
   "metadata": {},
   "outputs": [],
   "source": [
    "def developer(developer):\n",
    "    # Filter the dataframe by developer\n",
    "    df_dev = df_games[df_games['developer'] == developer]\n",
    "    \n",
    "    # Calculate the quantity of items released by year\n",
    "    items_by_year = df_dev.groupby(df_dev['release_year'])['id'].count()\n",
    "    \n",
    "    # Calculate the percentage of free content\n",
    "    free_content_by_year = (df_dev[df_dev['price'] == 0].groupby(df_dev['release_year'])['id'].count() / items_by_year * 100).fillna(0)\n",
    "    \n",
    "    # Create a list of dictionaries with the results\n",
    "    result = [{'Year': int(year), 'Items Released': int(count), '% of Free Content': percent} for year, count, percent in zip(items_by_year.index, items_by_year.values, free_content_by_year.values)]\n",
    "    \n",
    "    # Convert the list to a dictionary\n",
    "    output = {f'Year: {item[\"Year\"]}': {'Items Released': item['Items Released'], '% of Free Content': item['% of Free Content']} for item in result}\n",
    "    \n",
    "    return output"
   ]
  },
  {
   "cell_type": "code",
   "execution_count": 35,
   "metadata": {},
   "outputs": [
    {
     "data": {
      "text/plain": [
       "{'Year: 1998': {'Items Released': 1, '% of Free Content': 0.0},\n",
       " 'Year: 1999': {'Items Released': 1, '% of Free Content': 0.0},\n",
       " 'Year: 2000': {'Items Released': 2, '% of Free Content': 0.0},\n",
       " 'Year: 2001': {'Items Released': 1, '% of Free Content': 0.0},\n",
       " 'Year: 2003': {'Items Released': 1, '% of Free Content': 0.0},\n",
       " 'Year: 2004': {'Items Released': 5, '% of Free Content': 0.0},\n",
       " 'Year: 2006': {'Items Released': 2, '% of Free Content': 0.0},\n",
       " 'Year: 2007': {'Items Released': 4, '% of Free Content': 50.0},\n",
       " 'Year: 2008': {'Items Released': 1, '% of Free Content': 0.0},\n",
       " 'Year: 2009': {'Items Released': 1, '% of Free Content': 0.0},\n",
       " 'Year: 2010': {'Items Released': 2, '% of Free Content': 50.0},\n",
       " 'Year: 2011': {'Items Released': 2, '% of Free Content': 0.0},\n",
       " 'Year: 2012': {'Items Released': 1, '% of Free Content': 0.0},\n",
       " 'Year: 2016': {'Items Released': 1, '% of Free Content': 100.0},\n",
       " 'Year: 2017': {'Items Released': 3, '% of Free Content': 0.0}}"
      ]
     },
     "execution_count": 35,
     "metadata": {},
     "output_type": "execute_result"
    }
   ],
   "source": [
    "developer('Valve')"
   ]
  },
  {
   "cell_type": "markdown",
   "metadata": {},
   "source": [
    "#### def userdata(user_id)\n",
    "per user returns a dictionary containing: {user id: amount of money spent, percentage of recommendation, number of items}"
   ]
  },
  {
   "cell_type": "code",
   "execution_count": 16,
   "metadata": {},
   "outputs": [],
   "source": [
    "def userdata(user_id):\n",
    "\n",
    "    df_items['item_id'] = df_items['item_id'].astype(float)\n",
    "    user_items = df_items.loc[df_items['user_id'] == user_id]\n",
    "    money_spent = user_items.merge(df_games, left_on='item_id', right_on='id')['price'].sum()\n",
    "    number_of_items = float(user_items['items_count'].unique()[0])\n",
    "\n",
    "    # Filter and count only True values (recommendations)\n",
    "    user_recommendations = user_items.merge(df_reviews, left_on='item_id', right_on='item_id')['recommend']\n",
    "    recommend_rate = user_recommendations.where(user_recommendations == True).count() \n",
    "\n",
    "    # Calculate total items to avoid division by zero\n",
    "    total_items = user_items['items_count'].sum()\n",
    "\n",
    "    # Calculate recommendation rate (avoiding division by zero)\n",
    "    recommend_rate = recommend_rate / total_items if total_items > 0 else 0\n",
    "\n",
    "    user_data = {\n",
    "        'user id': user_id,\n",
    "        'money spent': round(money_spent, 2),\n",
    "        'number of items': round(number_of_items,3),\n",
    "        'recommend rate': recommend_rate\n",
    "    }\n",
    "\n",
    "    return user_data\n",
    "\n"
   ]
  },
  {
   "cell_type": "code",
   "execution_count": 17,
   "metadata": {},
   "outputs": [
    {
     "data": {
      "text/plain": [
       "{'user id': 'thugnificent',\n",
       " 'money spent': 98499.16,\n",
       " 'number of items': 6700.0,\n",
       " 'recommend rate': 0.000719380708398307}"
      ]
     },
     "execution_count": 17,
     "metadata": {},
     "output_type": "execute_result"
    }
   ],
   "source": [
    "userdata('thugnificent')"
   ]
  },
  {
   "cell_type": "code",
   "execution_count": 18,
   "metadata": {},
   "outputs": [
    {
     "data": {
      "text/plain": [
       "{'user id': 'Derp-e',\n",
       " 'money spent': 369.75,\n",
       " 'number of items': 18.0,\n",
       " 'recommend rate': 21.108024691358025}"
      ]
     },
     "execution_count": 18,
     "metadata": {},
     "output_type": "execute_result"
    }
   ],
   "source": [
    "userdata('Derp-e')"
   ]
  },
  {
   "cell_type": "markdown",
   "metadata": {},
   "source": [
    "#### def UserForGenre (genre)\n",
    "Returns the user with the most hours played in a given genre, playtime divided by year: {'genre': 'user_id', \"Hours played\": [{year: yyyy, hours: n},{year: yyyy, hours: n},{year: yyyy, hours: n}]}"
   ]
  },
  {
   "cell_type": "code",
   "execution_count": 19,
   "metadata": {},
   "outputs": [],
   "source": [
    "def UserForGenre(genero:str):\n",
    "\n",
    "  # Merge DataFrames based on a common column (e.g., 'item_name')\n",
    "  df_merged = df_items.merge(df_games, left_on='item_name', right_on='title')\n",
    "\n",
    "  # Filter data for the given genre\n",
    "  genre_data = df_merged[df_merged['genres'] == genero]\n",
    "\n",
    "  # Calculate total playtime per user per year (assuming playtime_forever in minutes)\n",
    "  user_year_playtime = (\n",
    "      genre_data\n",
    "      .groupby(['user_id', genre_data['release_year']])['playtime_forever']\n",
    "      .sum()\n",
    "      .apply(lambda x: x / 60)  # Convert minutes to hours\n",
    "      .reset_index()\n",
    "  )\n",
    "\n",
    "  # Group by user ID and sum playtime across years\n",
    "  user_playtime_total = user_year_playtime.groupby('user_id')['playtime_forever'].sum()\n",
    "\n",
    "  # Find user with the most playtime\n",
    "  top_user_id = user_playtime_total.idxmax()\n",
    "\n",
    "  # Filter data for the top user\n",
    "  top_user_data = user_year_playtime[user_year_playtime['user_id'] == top_user_id]\n",
    "\n",
    "  # Prepare playtime details\n",
    "  playtime_details = [\n",
    "      {'year': row[\"release_year\"], 'hours': round(row[\"playtime_forever\"], 2)}\n",
    "      for _, row in top_user_data.iterrows()\n",
    "  ]\n",
    "\n",
    "  # Return user details dictionary\n",
    "  return {\n",
    "      \"genre\": genero,\n",
    "      \"user_id\": top_user_id,\n",
    "      \"Hours played\": playtime_details\n",
    "  }\n"
   ]
  },
  {
   "cell_type": "code",
   "execution_count": 20,
   "metadata": {},
   "outputs": [
    {
     "data": {
      "text/plain": [
       "{'genre': 'Action',\n",
       " 'user_id': 'shinomegami',\n",
       " 'Hours played': [{'year': 1988, 'hours': 2.27},\n",
       "  {'year': 1991, 'hours': 0.0},\n",
       "  {'year': 1992, 'hours': 0.0},\n",
       "  {'year': 1993, 'hours': 0.0},\n",
       "  {'year': 1994, 'hours': 0.0},\n",
       "  {'year': 1995, 'hours': 0.03},\n",
       "  {'year': 1996, 'hours': 19.35},\n",
       "  {'year': 1997, 'hours': 1.65},\n",
       "  {'year': 1998, 'hours': 61.93},\n",
       "  {'year': 1999, 'hours': 5.05},\n",
       "  {'year': 2000, 'hours': 159.53},\n",
       "  {'year': 2001, 'hours': 40.48},\n",
       "  {'year': 2002, 'hours': 0.0},\n",
       "  {'year': 2003, 'hours': 8879.27},\n",
       "  {'year': 2004, 'hours': 2.0},\n",
       "  {'year': 2005, 'hours': 5.72},\n",
       "  {'year': 2006, 'hours': 34.05},\n",
       "  {'year': 2007, 'hours': 1139.23},\n",
       "  {'year': 2008, 'hours': 3.0},\n",
       "  {'year': 2009, 'hours': 3496.75},\n",
       "  {'year': 2010, 'hours': 156.75},\n",
       "  {'year': 2011, 'hours': 1484.37},\n",
       "  {'year': 2012, 'hours': 300.65},\n",
       "  {'year': 2013, 'hours': 2439.15},\n",
       "  {'year': 2014, 'hours': 1519.92},\n",
       "  {'year': 2015, 'hours': 1690.82},\n",
       "  {'year': 2016, 'hours': 709.38},\n",
       "  {'year': 2017, 'hours': 2.25}]}"
      ]
     },
     "execution_count": 20,
     "metadata": {},
     "output_type": "execute_result"
    }
   ],
   "source": [
    "UserForGenre('Action')"
   ]
  },
  {
   "cell_type": "markdown",
   "metadata": {},
   "source": [
    "#### def best_developer_year(year)\n",
    "returns top 3 most recommended developers in a given year. [{First place: X},{Second place: Y},{Third place: Z}]"
   ]
  },
  {
   "cell_type": "code",
   "execution_count": 5,
   "metadata": {},
   "outputs": [],
   "source": [
    "def best_developer_year(year):\n",
    "    df_merged = df_reviews.merge(df_games, left_on='item_id', right_on='id')\n",
    "    df_merged['posted'] = pd.to_datetime(df_merged['posted'])\n",
    "  # Filter data for the given year\n",
    "    df_year = df_merged[df_merged['posted'].dt.year == year]\n",
    "    top_devs = (df_year.groupby('developer')['recommend'].count().reset_index().sort_values(by='recommend', ascending=False).head(3))\n",
    "\n",
    "    rankings = [\"1st place\", \"2nd place\", \"3rd place\"]\n",
    "    top_devs_dict = dict(zip(rankings, top_devs.to_dict('records')))\n",
    "\n",
    "    return top_devs_dict\n"
   ]
  },
  {
   "cell_type": "code",
   "execution_count": 6,
   "metadata": {},
   "outputs": [
    {
     "data": {
      "text/plain": [
       "{'1st place': {'developer': 'Valve', 'recommend': 3500},\n",
       " '2nd place': {'developer': 'Facepunch Studios', 'recommend': 2050},\n",
       " '3rd place': {'developer': 'Smartly Dressed Games', 'recommend': 1590}}"
      ]
     },
     "execution_count": 6,
     "metadata": {},
     "output_type": "execute_result"
    }
   ],
   "source": [
    "best_developer_year(2015)"
   ]
  },
  {
   "cell_type": "code",
   "execution_count": 117,
   "metadata": {},
   "outputs": [
    {
     "data": {
      "text/plain": [
       "{}"
      ]
     },
     "execution_count": 117,
     "metadata": {},
     "output_type": "execute_result"
    }
   ],
   "source": [
    "best_developer_year(2001)"
   ]
  },
  {
   "cell_type": "code",
   "execution_count": 21,
   "metadata": {},
   "outputs": [],
   "source": [
    "def best_developer_year2(year):\n",
    "    df_merged = df_reviews.merge(df_games, left_on='item_id', right_on='id')\n",
    "  # Filter data for the given year\n",
    "    df_year = df_merged[df_merged['release_year'] == year]\n",
    "    top_devs = (df_year.groupby('developer')['recommend'].count().reset_index().sort_values(by='recommend', ascending=False).head(3))\n",
    "\n",
    "    rankings = [\"1st place\", \"2nd place\", \"3rd place\"]\n",
    "    top_devs_dict = dict(zip(rankings, top_devs.to_dict('records')))\n",
    "\n",
    "    return top_devs_dict"
   ]
  },
  {
   "cell_type": "code",
   "execution_count": 22,
   "metadata": {},
   "outputs": [
    {
     "data": {
      "text/plain": [
       "{'1st place': {'developer': 'Firaxis Games', 'recommend': 4},\n",
       " '2nd place': {'developer': 'FireFly Studios', 'recommend': 4},\n",
       " '3rd place': {'developer': 'Remedy Entertainment', 'recommend': 4}}"
      ]
     },
     "execution_count": 22,
     "metadata": {},
     "output_type": "execute_result"
    }
   ],
   "source": [
    "best_developer_year2(2001)"
   ]
  },
  {
   "cell_type": "markdown",
   "metadata": {},
   "source": [
    "#### def developer_reviews_analysis(developer)\n",
    "per developer, returns a dictionary containing the total count of reviews for each type: {'developer': [Negative = n, positive = p]}"
   ]
  },
  {
   "cell_type": "code",
   "execution_count": 4,
   "metadata": {},
   "outputs": [],
   "source": [
    "def developer_reviews_analysis(developer):\n",
    "  \"\"\"\n",
    "  Analyzes developer reviews and returns a dictionary with review counts.\n",
    "\n",
    "  Args:\n",
    "      developer: The name of the developer to analyze.\n",
    "\n",
    "  Returns:\n",
    "      A dictionary with the developer name as the key and a list containing \n",
    "      the count of negative and positive reviews as values.\n",
    "  \"\"\"\n",
    "\n",
    "  # Merge reviews and games on item_id and developer\n",
    "  # Specify how to handle differing column names if needed\n",
    "  merged_df = df_games.merge(df_reviews, left_on='id', right_on='item_id', how='inner')\n",
    "\n",
    "  # Count reviews by sentiment category\n",
    "  review_counts = merged_df['sentiment_category'].value_counts().to_dict()\n",
    "\n",
    "  # Convert category counts to a list with desired format\n",
    "  review_list = {\n",
    "      'Negative' : review_counts.get(0, 0),  # Use integer 0 for negative category\n",
    "      'Positive' : review_counts.get(2, 0),  # Use integer 2 for positive category\n",
    "  }\n",
    "\n",
    "  # Create the dictionary with developer name and review counts\n",
    "  return {developer: review_list}\n"
   ]
  },
  {
   "cell_type": "code",
   "execution_count": 5,
   "metadata": {},
   "outputs": [
    {
     "data": {
      "text/plain": [
       "{'Re-Logic': {'Negative': 15941, 'Positive': 65280}}"
      ]
     },
     "execution_count": 5,
     "metadata": {},
     "output_type": "execute_result"
    }
   ],
   "source": [
    "developer_reviews_analysis('Re-Logic')"
   ]
  }
 ],
 "metadata": {
  "kernelspec": {
   "display_name": "Python 3",
   "language": "python",
   "name": "python3"
  },
  "language_info": {
   "codemirror_mode": {
    "name": "ipython",
    "version": 3
   },
   "file_extension": ".py",
   "mimetype": "text/x-python",
   "name": "python",
   "nbconvert_exporter": "python",
   "pygments_lexer": "ipython3",
   "version": "3.11.3"
  }
 },
 "nbformat": 4,
 "nbformat_minor": 2
}
