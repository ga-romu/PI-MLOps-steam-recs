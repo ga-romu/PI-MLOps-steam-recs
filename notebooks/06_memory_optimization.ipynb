{
 "cells": [
  {
   "cell_type": "code",
   "execution_count": 6,
   "metadata": {},
   "outputs": [],
   "source": [
    "# import libraries\n",
    "import pandas as pd\n",
    "import numpy as np\n",
    "import json\n",
    "import operator\n",
    "\n",
    "import warnings\n",
    "warnings.filterwarnings(\"ignore\")"
   ]
  },
  {
   "cell_type": "markdown",
   "metadata": {},
   "source": [
    "df_games = pd.read_parquet('../data/df_games.parquet')\n",
    "df_reviews = pd.read_parquet('../data/df_reviews.parquet')\n",
    "df_items = pd.read_parquet('../data/df_items.parquet')\n",
    "piv_norm = pd.read_parquet('../data/piv_norm.parquet')\n",
    "user_sim_df = pd.read_parquet('../data/user_sim_df.parquet')\n",
    "item_sim_df = pd.read_parquet('../data/item_sim_df.parquet')"
   ]
  },
  {
   "cell_type": "code",
   "execution_count": null,
   "metadata": {},
   "outputs": [],
   "source": []
  }
 ],
 "metadata": {
  "kernelspec": {
   "display_name": "Python 3",
   "language": "python",
   "name": "python3"
  },
  "language_info": {
   "codemirror_mode": {
    "name": "ipython",
    "version": 3
   },
   "file_extension": ".py",
   "mimetype": "text/x-python",
   "name": "python",
   "nbconvert_exporter": "python",
   "pygments_lexer": "ipython3",
   "version": "3.11.7"
  }
 },
 "nbformat": 4,
 "nbformat_minor": 2
}
